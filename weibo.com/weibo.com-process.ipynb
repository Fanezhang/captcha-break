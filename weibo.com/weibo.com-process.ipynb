{
 "cells": [
  {
   "cell_type": "markdown",
   "metadata": {},
   "source": [
    "## Create Dataset"
   ]
  },
  {
   "cell_type": "code",
   "execution_count": 1,
   "metadata": {},
   "outputs": [],
   "source": [
    "import os\n",
    "import numpy as np\n",
    "from PIL import Image"
   ]
  },
  {
   "cell_type": "code",
   "execution_count": 2,
   "metadata": {},
   "outputs": [],
   "source": [
    "dataset = []\n",
    "labels = []"
   ]
  },
  {
   "cell_type": "code",
   "execution_count": 3,
   "metadata": {},
   "outputs": [],
   "source": [
    "for filename in os.listdir(\"dataset\"):\n",
    "    if filename.endswith(\".png\"):\n",
    "        img_path = os.path.join(\"dataset\", filename)\n",
    "        im = Image.open(img_path).convert('L')\n",
    "        dataset.append(np.asarray(im, dtype=np.float32))\n",
    "        labels.append(filename.replace(\".png\", \"\"))"
   ]
  },
  {
   "cell_type": "code",
   "execution_count": 4,
   "metadata": {},
   "outputs": [
    {
     "data": {
      "image/png": "[encoded data removed]",
      "text/plain": [
       "<PIL.Image.Image image mode=L size=100x40 at 0x7F20EFEB64A8>"
      ]
     },
     "execution_count": 4,
     "metadata": {},
     "output_type": "execute_result"
    }
   ],
   "source": [
    "Image.fromarray(np.array(dataset[0], dtype=np.uint8))"
   ]
  },
  {
   "cell_type": "code",
   "execution_count": 5,
   "metadata": {},
   "outputs": [
    {
     "data": {
      "text/plain": [
       "'4qp5b'"
      ]
     },
     "execution_count": 5,
     "metadata": {},
     "output_type": "execute_result"
    }
   ],
   "source": [
    "labels[0]"
   ]
  },
  {
   "cell_type": "code",
   "execution_count": 37,
   "metadata": {},
   "outputs": [],
   "source": [
    "ch2index = {}\n",
    "index2ch = {}\n",
    "index = 0\n",
    "for label in labels:\n",
    "    for ch in label:\n",
    "        if ch not in ch2index.keys():\n",
    "            ch2index[ch] = index\n",
    "            index2ch[index] = ch\n",
    "            index += 1"
   ]
  },
  {
   "cell_type": "code",
   "execution_count": 38,
   "metadata": {},
   "outputs": [
    {
     "data": {
      "text/plain": [
       "{'4': 0,\n",
       " 'q': 1,\n",
       " 'p': 2,\n",
       " '5': 3,\n",
       " 'b': 4,\n",
       " 'e': 5,\n",
       " 'k': 6,\n",
       " 'm': 7,\n",
       " 'y': 8,\n",
       " 'z': 9,\n",
       " '3': 10,\n",
       " 'f': 11,\n",
       " 'u': 12,\n",
       " '2': 13,\n",
       " 'c': 14,\n",
       " '7': 15,\n",
       " 'd': 16,\n",
       " 'x': 17,\n",
       " 's': 18,\n",
       " 'h': 19,\n",
       " 'v': 20,\n",
       " 'g': 21,\n",
       " '8': 22,\n",
       " 'n': 23,\n",
       " 'r': 24,\n",
       " 'a': 25,\n",
       " 'w': 26,\n",
       " '6': 27,\n",
       " 'o': 28,\n",
       " 't': 29,\n",
       " '1': 30,\n",
       " 'l': 31,\n",
       " 'j': 32,\n",
       " '9': 33,\n",
       " 'i': 34,\n",
       " '0': 35}"
      ]
     },
     "execution_count": 38,
     "metadata": {},
     "output_type": "execute_result"
    }
   ],
   "source": [
    "ch2index"
   ]
  },
  {
   "cell_type": "code",
   "execution_count": 39,
   "metadata": {},
   "outputs": [
    {
     "name": "stdout",
     "output_type": "stream",
     "text": [
      "total char type: 36\n"
     ]
    }
   ],
   "source": [
    "print(\"total char type:\", len(ch2index))"
   ]
  },
  {
   "cell_type": "code",
   "execution_count": 9,
   "metadata": {},
   "outputs": [],
   "source": [
    "y0 = []\n",
    "y1 = []\n",
    "y2 = []\n",
    "y3 = []\n",
    "y4 = []\n",
    "\n",
    "for label in labels:\n",
    "    y0.append(ch2index[label[0]])\n",
    "    y1.append(ch2index[label[1]])\n",
    "    y2.append(ch2index[label[2]])\n",
    "    y3.append(ch2index[label[3]])\n",
    "    y4.append(ch2index[label[4]])"
   ]
  },
  {
   "cell_type": "code",
   "execution_count": 11,
   "metadata": {},
   "outputs": [
    {
     "data": {
      "text/plain": [
       "11303"
      ]
     },
     "execution_count": 11,
     "metadata": {},
     "output_type": "execute_result"
    }
   ],
   "source": [
    "len(y0)"
   ]
  },
  {
   "cell_type": "code",
   "execution_count": 12,
   "metadata": {},
   "outputs": [],
   "source": [
    "X_train = np.array(dataset[:10000]).reshape(-1, 40, 100, 1)\n",
    "y_train = [\n",
    "    np.array(y0[:10000]),\n",
    "    np.array(y1[:10000]),\n",
    "    np.array(y2[:10000]),\n",
    "    np.array(y3[:10000]),\n",
    "    np.array(y4[:10000]),\n",
    "]"
   ]
  },
  {
   "cell_type": "code",
   "execution_count": 13,
   "metadata": {},
   "outputs": [
    {
     "data": {
      "text/plain": [
       "(10000, 40, 100, 1)"
      ]
     },
     "execution_count": 13,
     "metadata": {},
     "output_type": "execute_result"
    }
   ],
   "source": [
    "X_train.shape"
   ]
  },
  {
   "cell_type": "code",
   "execution_count": 21,
   "metadata": {},
   "outputs": [],
   "source": [
    "X_test = np.array(dataset[10000:]).reshape(-1, 40, 100, 1)\n",
    "y_test = [\n",
    "    np.array(y0[10000:]),\n",
    "    np.array(y1[10000:]),\n",
    "    np.array(y2[10000:]),\n",
    "    np.array(y3[10000:]),\n",
    "    np.array(y4[10000:]),\n",
    "]"
   ]
  },
  {
   "cell_type": "code",
   "execution_count": 22,
   "metadata": {},
   "outputs": [
    {
     "data": {
      "text/plain": [
       "(1303, 40, 100, 1)"
      ]
     },
     "execution_count": 22,
     "metadata": {},
     "output_type": "execute_result"
    }
   ],
   "source": [
    "X_test.shape"
   ]
  },
  {
   "cell_type": "markdown",
   "metadata": {},
   "source": [
    "## Train the Network"
   ]
  },
  {
   "cell_type": "code",
   "execution_count": 16,
   "metadata": {},
   "outputs": [
    {
     "name": "stderr",
     "output_type": "stream",
     "text": [
      "Using TensorFlow backend.\n"
     ]
    }
   ],
   "source": [
    "from keras.layers import Activation, Input, Dense, Conv2D, MaxPool2D, Dropout, Flatten, BatchNormalization\n",
    "from keras.models import Model\n",
    "from keras.layers.merge import Concatenate\n",
    "\n",
    "\n",
    "def build_model():\n",
    "    input_ = Input(shape=(40, 100, 1))\n",
    "\n",
    "    # conv layer 1\n",
    "    model = BatchNormalization()(input_)\n",
    "    model = Conv2D(64, (5, 5), activation ='relu', padding='same')(model)\n",
    "    model = MaxPool2D(pool_size=(2, 2))(model)\n",
    "\n",
    "    # conv layer 2\n",
    "    model = BatchNormalization()(model)\n",
    "    model = Conv2D(128, (5, 5), activation ='relu', padding='valid')(model)\n",
    "    model = MaxPool2D(pool_size=(2, 2))(model)\n",
    "\n",
    "    # conv layer 3\n",
    "    model = BatchNormalization()(model)\n",
    "    model = Conv2D(256, (5, 5), activation ='relu', padding='valid')(model)\n",
    "    model = MaxPool2D(pool_size=(2, 2))(model)\n",
    "    model = Dropout(0.5)(model)\n",
    "\n",
    "    # fully connected layer\n",
    "    model = Flatten()(model)\n",
    "    model = Dense(1024, activation='relu')(model)\n",
    "    model = Dense(512, activation='relu')(model)\n",
    "\n",
    "    x0 = Dense(36, activation='softmax')(model)\n",
    "    x1 = Dense(36, activation='softmax')(model)\n",
    "    x2 = Dense(36, activation='softmax')(model)\n",
    "    x3 = Dense(36, activation='softmax')(model)\n",
    "    x4 = Dense(36, activation='softmax')(model)\n",
    "\n",
    "    x = [x0, x1, x2, x3, x4]\n",
    "\n",
    "    model = Model(inputs=input_, outputs=x)\n",
    "    return model"
   ]
  },
  {
   "cell_type": "code",
   "execution_count": 17,
   "metadata": {},
   "outputs": [],
   "source": [
    "model = build_model()"
   ]
  },
  {
   "cell_type": "code",
   "execution_count": 18,
   "metadata": {},
   "outputs": [
    {
     "name": "stdout",
     "output_type": "stream",
     "text": [
      "__________________________________________________________________________________________________\n",
      "Layer (type)                    Output Shape         Param #     Connected to                     \n",
      "==================================================================================================\n",
      "input_1 (InputLayer)            (None, 40, 100, 1)   0                                            \n",
      "__________________________________________________________________________________________________\n",
      "batch_normalization_1 (BatchNor (None, 40, 100, 1)   4           input_1[0][0]                    \n",
      "__________________________________________________________________________________________________\n",
      "conv2d_1 (Conv2D)               (None, 40, 100, 64)  1664        batch_normalization_1[0][0]      \n",
      "__________________________________________________________________________________________________\n",
      "max_pooling2d_1 (MaxPooling2D)  (None, 20, 50, 64)   0           conv2d_1[0][0]                   \n",
      "__________________________________________________________________________________________________\n",
      "batch_normalization_2 (BatchNor (None, 20, 50, 64)   256         max_pooling2d_1[0][0]            \n",
      "__________________________________________________________________________________________________\n",
      "conv2d_2 (Conv2D)               (None, 16, 46, 128)  204928      batch_normalization_2[0][0]      \n",
      "__________________________________________________________________________________________________\n",
      "max_pooling2d_2 (MaxPooling2D)  (None, 8, 23, 128)   0           conv2d_2[0][0]                   \n",
      "__________________________________________________________________________________________________\n",
      "batch_normalization_3 (BatchNor (None, 8, 23, 128)   512         max_pooling2d_2[0][0]            \n",
      "__________________________________________________________________________________________________\n",
      "conv2d_3 (Conv2D)               (None, 4, 19, 256)   819456      batch_normalization_3[0][0]      \n",
      "__________________________________________________________________________________________________\n",
      "max_pooling2d_3 (MaxPooling2D)  (None, 2, 9, 256)    0           conv2d_3[0][0]                   \n",
      "__________________________________________________________________________________________________\n",
      "dropout_1 (Dropout)             (None, 2, 9, 256)    0           max_pooling2d_3[0][0]            \n",
      "__________________________________________________________________________________________________\n",
      "flatten_1 (Flatten)             (None, 4608)         0           dropout_1[0][0]                  \n",
      "__________________________________________________________________________________________________\n",
      "dense_1 (Dense)                 (None, 1024)         4719616     flatten_1[0][0]                  \n",
      "__________________________________________________________________________________________________\n",
      "dense_2 (Dense)                 (None, 512)          524800      dense_1[0][0]                    \n",
      "__________________________________________________________________________________________________\n",
      "dense_3 (Dense)                 (None, 36)           18468       dense_2[0][0]                    \n",
      "__________________________________________________________________________________________________\n",
      "dense_4 (Dense)                 (None, 36)           18468       dense_2[0][0]                    \n",
      "__________________________________________________________________________________________________\n",
      "dense_5 (Dense)                 (None, 36)           18468       dense_2[0][0]                    \n",
      "__________________________________________________________________________________________________\n",
      "dense_6 (Dense)                 (None, 36)           18468       dense_2[0][0]                    \n",
      "__________________________________________________________________________________________________\n",
      "dense_7 (Dense)                 (None, 36)           18468       dense_2[0][0]                    \n",
      "==================================================================================================\n",
      "Total params: 6,363,576\n",
      "Trainable params: 6,363,190\n",
      "Non-trainable params: 386\n",
      "__________________________________________________________________________________________________\n"
     ]
    }
   ],
   "source": [
    "model.summary()"
   ]
  },
  {
   "cell_type": "code",
   "execution_count": 19,
   "metadata": {},
   "outputs": [],
   "source": [
    "model.compile(loss='sparse_categorical_crossentropy',\n",
    "              optimizer=\"rmsprop\",\n",
    "              metrics=['accuracy'])"
   ]
  },
  {
   "cell_type": "code",
   "execution_count": 20,
   "metadata": {},
   "outputs": [
    {
     "name": "stdout",
     "output_type": "stream",
     "text": [
      "Epoch 1/20\n",
      "10000/10000 [==============================] - 97s 10ms/step - loss: 17.6341 - dense_3_loss: 3.5153 - dense_4_loss: 3.5181 - dense_5_loss: 3.5418 - dense_6_loss: 3.5162 - dense_7_loss: 3.5428 - dense_3_acc: 0.0678 - dense_4_acc: 0.0766 - dense_5_acc: 0.0701 - dense_6_acc: 0.0690 - dense_7_acc: 0.0603\n",
      "Epoch 2/20\n",
      "10000/10000 [==============================] - 94s 9ms/step - loss: 14.2783 - dense_3_loss: 2.6371 - dense_4_loss: 2.7433 - dense_5_loss: 2.9003 - dense_6_loss: 2.9955 - dense_7_loss: 3.0021 - dense_3_acc: 0.2283 - dense_4_acc: 0.2149 - dense_5_acc: 0.1784 - dense_6_acc: 0.1637 - dense_7_acc: 0.1568\n",
      "Epoch 3/20\n",
      "10000/10000 [==============================] - 94s 9ms/step - loss: 10.9375 - dense_3_loss: 1.7339 - dense_4_loss: 1.9884 - dense_5_loss: 2.3118 - dense_6_loss: 2.4551 - dense_7_loss: 2.4483 - dense_3_acc: 0.4526 - dense_4_acc: 0.3874 - dense_5_acc: 0.3160 - dense_6_acc: 0.2870 - dense_7_acc: 0.2897\n",
      "Epoch 4/20\n",
      "10000/10000 [==============================] - 96s 10ms/step - loss: 8.0989 - dense_3_loss: 1.1471 - dense_4_loss: 1.3864 - dense_5_loss: 1.7503 - dense_6_loss: 1.8702 - dense_7_loss: 1.9449 - dense_3_acc: 0.6305 - dense_4_acc: 0.5663 - dense_5_acc: 0.4712 - dense_6_acc: 0.4461 - dense_7_acc: 0.4233\n",
      "Epoch 5/20\n",
      "10000/10000 [==============================] - 95s 9ms/step - loss: 5.9259 - dense_3_loss: 0.8051 - dense_4_loss: 0.9581 - dense_5_loss: 1.2783 - dense_6_loss: 1.3741 - dense_7_loss: 1.5104 - dense_3_acc: 0.7429 - dense_4_acc: 0.6949 - dense_5_acc: 0.6121 - dense_6_acc: 0.5860 - dense_7_acc: 0.5500\n",
      "Epoch 6/20\n",
      "10000/10000 [==============================] - 97s 10ms/step - loss: 4.3998 - dense_3_loss: 0.5907 - dense_4_loss: 0.6921 - dense_5_loss: 0.9297 - dense_6_loss: 1.0084 - dense_7_loss: 1.1789 - dense_3_acc: 0.8068 - dense_4_acc: 0.7818 - dense_5_acc: 0.7158 - dense_6_acc: 0.6910 - dense_7_acc: 0.6482\n",
      "Epoch 7/20\n",
      "10000/10000 [==============================] - 95s 9ms/step - loss: 3.4301 - dense_3_loss: 0.4714 - dense_4_loss: 0.5409 - dense_5_loss: 0.7132 - dense_6_loss: 0.7653 - dense_7_loss: 0.9393 - dense_3_acc: 0.8479 - dense_4_acc: 0.8327 - dense_5_acc: 0.7817 - dense_6_acc: 0.7656 - dense_7_acc: 0.7179\n",
      "Epoch 8/20\n",
      "10000/10000 [==============================] - 97s 10ms/step - loss: 2.7412 - dense_3_loss: 0.3709 - dense_4_loss: 0.4216 - dense_5_loss: 0.5414 - dense_6_loss: 0.6195 - dense_7_loss: 0.7878 - dense_3_acc: 0.8796 - dense_4_acc: 0.8693 - dense_5_acc: 0.8348 - dense_6_acc: 0.8118 - dense_7_acc: 0.7618\n",
      "Epoch 9/20\n",
      "10000/10000 [==============================] - 94s 9ms/step - loss: 2.2960 - dense_3_loss: 0.3277 - dense_4_loss: 0.3614 - dense_5_loss: 0.4551 - dense_6_loss: 0.5082 - dense_7_loss: 0.6437 - dense_3_acc: 0.8976 - dense_4_acc: 0.8852 - dense_5_acc: 0.8600 - dense_6_acc: 0.8479 - dense_7_acc: 0.8046\n",
      "Epoch 10/20\n",
      "10000/10000 [==============================] - 97s 10ms/step - loss: 1.9899 - dense_3_loss: 0.2953 - dense_4_loss: 0.3114 - dense_5_loss: 0.3891 - dense_6_loss: 0.4377 - dense_7_loss: 0.5564 - dense_3_acc: 0.9094 - dense_4_acc: 0.9059 - dense_5_acc: 0.8841 - dense_6_acc: 0.8647 - dense_7_acc: 0.8323\n",
      "Epoch 11/20\n",
      "10000/10000 [==============================] - 96s 10ms/step - loss: 1.7463 - dense_3_loss: 0.2441 - dense_4_loss: 0.2714 - dense_5_loss: 0.3444 - dense_6_loss: 0.4037 - dense_7_loss: 0.4827 - dense_3_acc: 0.9247 - dense_4_acc: 0.9200 - dense_5_acc: 0.8959 - dense_6_acc: 0.8806 - dense_7_acc: 0.8505\n",
      "Epoch 12/20\n",
      "10000/10000 [==============================] - 97s 10ms/step - loss: 1.5476 - dense_3_loss: 0.2386 - dense_4_loss: 0.2476 - dense_5_loss: 0.3052 - dense_6_loss: 0.3334 - dense_7_loss: 0.4227 - dense_3_acc: 0.9283 - dense_4_acc: 0.9287 - dense_5_acc: 0.9094 - dense_6_acc: 0.9019 - dense_7_acc: 0.8716\n",
      "Epoch 13/20\n",
      "10000/10000 [==============================] - 97s 10ms/step - loss: 1.4652 - dense_3_loss: 0.2235 - dense_4_loss: 0.2240 - dense_5_loss: 0.2869 - dense_6_loss: 0.3307 - dense_7_loss: 0.4000 - dense_3_acc: 0.9336 - dense_4_acc: 0.9337 - dense_5_acc: 0.9157 - dense_6_acc: 0.9044 - dense_7_acc: 0.8792\n",
      "Epoch 14/20\n",
      "10000/10000 [==============================] - 98s 10ms/step - loss: 1.3374 - dense_3_loss: 0.2234 - dense_4_loss: 0.2206 - dense_5_loss: 0.2586 - dense_6_loss: 0.2783 - dense_7_loss: 0.3564 - dense_3_acc: 0.9368 - dense_4_acc: 0.9379 - dense_5_acc: 0.9246 - dense_6_acc: 0.9175 - dense_7_acc: 0.8934\n",
      "Epoch 15/20\n",
      "10000/10000 [==============================] - 94s 9ms/step - loss: 1.3162 - dense_3_loss: 0.2077 - dense_4_loss: 0.2215 - dense_5_loss: 0.2740 - dense_6_loss: 0.2781 - dense_7_loss: 0.3349 - dense_3_acc: 0.9416 - dense_4_acc: 0.9401 - dense_5_acc: 0.9244 - dense_6_acc: 0.9205 - dense_7_acc: 0.9043\n",
      "Epoch 16/20\n",
      "10000/10000 [==============================] - 94s 9ms/step - loss: 1.2269 - dense_3_loss: 0.1970 - dense_4_loss: 0.1861 - dense_5_loss: 0.2416 - dense_6_loss: 0.2563 - dense_7_loss: 0.3459 - dense_3_acc: 0.9445 - dense_4_acc: 0.9494 - dense_5_acc: 0.9338 - dense_6_acc: 0.9247 - dense_7_acc: 0.9029\n",
      "Epoch 17/20\n",
      "10000/10000 [==============================] - 96s 10ms/step - loss: 1.1848 - dense_3_loss: 0.2169 - dense_4_loss: 0.1837 - dense_5_loss: 0.2241 - dense_6_loss: 0.2575 - dense_7_loss: 0.3026 - dense_3_acc: 0.9408 - dense_4_acc: 0.9494 - dense_5_acc: 0.9356 - dense_6_acc: 0.9286 - dense_7_acc: 0.9169\n",
      "Epoch 18/20\n",
      "10000/10000 [==============================] - 95s 9ms/step - loss: 1.1575 - dense_3_loss: 0.1911 - dense_4_loss: 0.1851 - dense_5_loss: 0.2228 - dense_6_loss: 0.2577 - dense_7_loss: 0.3009 - dense_3_acc: 0.9498 - dense_4_acc: 0.9503 - dense_5_acc: 0.9401 - dense_6_acc: 0.9321 - dense_7_acc: 0.9182\n",
      "Epoch 19/20\n",
      "10000/10000 [==============================] - 84s 8ms/step - loss: 1.0823 - dense_3_loss: 0.1791 - dense_4_loss: 0.1772 - dense_5_loss: 0.2175 - dense_6_loss: 0.2421 - dense_7_loss: 0.2665 - dense_3_acc: 0.9530 - dense_4_acc: 0.9543 - dense_5_acc: 0.9405 - dense_6_acc: 0.9361 - dense_7_acc: 0.9238\n",
      "Epoch 20/20\n",
      "10000/10000 [==============================] - 93s 9ms/step - loss: 1.0412 - dense_3_loss: 0.1700 - dense_4_loss: 0.1728 - dense_5_loss: 0.2166 - dense_6_loss: 0.2201 - dense_7_loss: 0.2617 - dense_3_acc: 0.9556 - dense_4_acc: 0.9553 - dense_5_acc: 0.9438 - dense_6_acc: 0.9422 - dense_7_acc: 0.9252\n"
     ]
    },
    {
     "data": {
      "text/plain": [
       "<keras.callbacks.History at 0x7f20d0543f28>"
      ]
     },
     "execution_count": 20,
     "metadata": {},
     "output_type": "execute_result"
    }
   ],
   "source": [
    "model.fit(X_train, y_train, batch_size=64, epochs=20)"
   ]
  },
  {
   "cell_type": "code",
   "execution_count": 25,
   "metadata": {},
   "outputs": [
    {
     "name": "stdout",
     "output_type": "stream",
     "text": [
      "1303/1303 [==============================] - 3s 2ms/step\n"
     ]
    }
   ],
   "source": [
    "res = model.evaluate(X_test, y_test)"
   ]
  },
  {
   "cell_type": "code",
   "execution_count": 26,
   "metadata": {},
   "outputs": [
    {
     "data": {
      "text/plain": [
       "[0.8879508820754788,\n",
       " 0.8626247118824002,\n",
       " 0.8242517262811581,\n",
       " 0.7789716034876046,\n",
       " 0.6799693013372005]"
      ]
     },
     "execution_count": 26,
     "metadata": {},
     "output_type": "execute_result"
    }
   ],
   "source": [
    "res[6:]"
   ]
  },
  {
   "cell_type": "markdown",
   "metadata": {},
   "source": [
    "## Use in product"
   ]
  },
  {
   "cell_type": "code",
   "execution_count": 27,
   "metadata": {},
   "outputs": [
    {
     "data": {
      "image/png": "[encoded data removed]",
      "text/plain": [
       "<PIL.Image.Image image mode=L size=100x40 at 0x7F208446E2E8>"
      ]
     },
     "execution_count": 27,
     "metadata": {},
     "output_type": "execute_result"
    }
   ],
   "source": [
    "Image.fromarray(np.array(X_test[0].reshape(40, 100), dtype=np.uint8))"
   ]
  },
  {
   "cell_type": "code",
   "execution_count": 31,
   "metadata": {},
   "outputs": [],
   "source": [
    "res = model.predict(np.array([X_test[0]]).reshape(1, 40, 100, 1))"
   ]
  },
  {
   "cell_type": "code",
   "execution_count": 44,
   "metadata": {},
   "outputs": [
    {
     "name": "stdout",
     "output_type": "stream",
     "text": [
      "z b b n k\n"
     ]
    }
   ],
   "source": [
    "print(index2ch[res[0].argmax(1)[0]], \n",
    "      index2ch[res[1].argmax(1)[0]], \n",
    "      index2ch[res[2].argmax(1)[0]], \n",
    "      index2ch[res[3].argmax(1)[0]], \n",
    "      index2ch[res[4].argmax(1)[0]])"
   ]
  },
  {
   "cell_type": "code",
   "execution_count": 45,
   "metadata": {},
   "outputs": [
    {
     "data": {
      "image/png": "[encoded data removed]",
      "text/plain": [
       "<PIL.Image.Image image mode=L size=100x40 at 0x7F208446E080>"
      ]
     },
     "execution_count": 45,
     "metadata": {},
     "output_type": "execute_result"
    }
   ],
   "source": [
    "Image.fromarray(np.array(X_test[-1].reshape(40, 100), dtype=np.uint8))"
   ]
  },
  {
   "cell_type": "code",
   "execution_count": 46,
   "metadata": {},
   "outputs": [],
   "source": [
    "res = model.predict(np.array([X_test[-1]]).reshape(1, 40, 100, 1))"
   ]
  },
  {
   "cell_type": "code",
   "execution_count": 47,
   "metadata": {},
   "outputs": [
    {
     "name": "stdout",
     "output_type": "stream",
     "text": [
      "5 e f d 5\n"
     ]
    }
   ],
   "source": [
    "print(index2ch[res[0].argmax(1)[0]], \n",
    "      index2ch[res[1].argmax(1)[0]], \n",
    "      index2ch[res[2].argmax(1)[0]], \n",
    "      index2ch[res[3].argmax(1)[0]], \n",
    "      index2ch[res[4].argmax(1)[0]])"
   ]
  }
 ],
 "metadata": {
  "kernelspec": {
   "display_name": "Python 3",
   "language": "python",
   "name": "python3"
  },
  "language_info": {
   "codemirror_mode": {
    "name": "ipython",
    "version": 3
   },
   "file_extension": ".py",
   "mimetype": "text/x-python",
   "name": "python",
   "nbconvert_exporter": "python",
   "pygments_lexer": "ipython3",
   "version": "3.6.2"
  }
 },
 "nbformat": 4,
 "nbformat_minor": 2
}
